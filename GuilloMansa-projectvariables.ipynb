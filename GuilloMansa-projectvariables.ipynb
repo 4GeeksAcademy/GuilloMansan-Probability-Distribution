{
 "cells": [
  {
   "cell_type": "markdown",
   "id": "b967ebc8",
   "metadata": {},
   "source": "# Ejercicios de Random Variables"
  },
  {
   "cell_type": "code",
   "id": "4eb16d6e",
   "metadata": {
    "ExecuteTime": {
     "end_time": "2025-10-27T03:47:11.626261Z",
     "start_time": "2025-10-27T03:47:10.744408Z"
    }
   },
   "source": [
    "from scipy.stats import binom\n",
    "import numpy as np\n",
    "import matplotlib.pyplot as plt\n",
    "\n",
    "np.random.seed(42)"
   ],
   "outputs": [],
   "execution_count": 1
  },
  {
   "metadata": {},
   "cell_type": "markdown",
   "source": [
    "## Binomial distribution\n",
    "\n",
    "En teoría de la probabilidad y estadística, la distribución binomial es la distribución de probabilidad discreta que da sólo dos resultados posibles en un experimento; por ejemplo, al lanzar una moneda, puede salir cara o cruz."
   ],
   "id": "37c3592f1840d89d"
  },
  {
   "metadata": {
    "ExecuteTime": {
     "end_time": "2025-10-27T03:47:11.639942Z",
     "start_time": "2025-10-27T03:47:11.635057Z"
    }
   },
   "cell_type": "code",
   "source": [
    "def dbinom(x, size, prob=0.5):\n",
    "    \"\"\"\n",
    "    Calculates the point estimate of the binomial distribution\n",
    "    \"\"\"\n",
    "    result = binom.pmf(k=x, n=size, p=prob, loc=0)\n",
    "    return result\n",
    "\n",
    "\n",
    "def pbinom(q, size, prob=0.5):\n",
    "    \"\"\"\n",
    "    Calculates the cumulative of the binomial distribution\n",
    "    \"\"\"\n",
    "    result = binom.cdf(k=q, n=size, p=prob, loc=0)\n",
    "    return result\n",
    "\n",
    "\n",
    "def qbinom(p, size, prob=0.5):\n",
    "    \"\"\"\n",
    "    Calculates the quantile function from the binomial distribution\n",
    "    \"\"\"\n",
    "    result = binom.ppf(q=p, n=size, p=prob, loc=0)\n",
    "    return result\n",
    "\n",
    "\n",
    "def rbinom(n, size, prob=0.5):\n",
    "    \"\"\"\n",
    "    Generates random variables from the binomial distribution\n",
    "    \"\"\"\n",
    "    result = binom.rvs(n=size, p=prob, size=n)\n",
    "    return result"
   ],
   "id": "aee39452efe58516",
   "outputs": [],
   "execution_count": 2
  },
  {
   "cell_type": "code",
   "id": "69fd07da",
   "metadata": {
    "ExecuteTime": {
     "end_time": "2025-10-27T03:47:11.698460Z",
     "start_time": "2025-10-27T03:47:11.688844Z"
    }
   },
   "source": [
    "data = rbinom(2000, size=10, prob=0.2)\n",
    "pmf = dbinom(data, size=10, prob=0.2)\n",
    "cdf = pbinom(data, size=10, prob=0.2)\n",
    "ppf = qbinom(data, size=10, prob=0.2)"
   ],
   "outputs": [],
   "execution_count": 3
  },
  {
   "metadata": {
    "ExecuteTime": {
     "end_time": "2025-10-27T03:47:12.387302Z",
     "start_time": "2025-10-27T03:47:11.743472Z"
    }
   },
   "cell_type": "code",
   "source": [
    "fig, axis = plt.subplots(3, 1, figsize=(5, 7))\n",
    "axis[0].stem(data, pmf, \"r-\")\n",
    "axis[1].stem(data, cdf, \"b-\")\n",
    "axis[2].stem(data, ppf, \"g-\")\n",
    "\n",
    "plt.tight_layout()  # Adjust the layout\n",
    "plt.show()  # Show the plot"
   ],
   "id": "74ce5f6a0af1add",
   "outputs": [
    {
     "data": {
      "text/plain": [
       "<Figure size 500x700 with 3 Axes>"
      ],
      "image/png": "[encoded data removed]"
     },
     "metadata": {},
     "output_type": "display_data",
     "jetTransient": {
      "display_id": null
     }
    }
   ],
   "execution_count": 4
  },
  {
   "cell_type": "markdown",
   "id": "8aa7eaa0",
   "metadata": {},
   "source": [
    "## Exercise 1\n",
    "\n",
    "Escriba las funciones anteriores pero para distribuciones normales y uniformes.Write the above functions but for both normal and uniform distributions."
   ]
  },
  {
   "cell_type": "code",
   "id": "98d5f012",
   "metadata": {
    "ExecuteTime": {
     "end_time": "2025-10-27T03:47:12.416318Z",
     "start_time": "2025-10-27T03:47:12.412228Z"
    }
   },
   "source": [
    "# TODO"
   ],
   "outputs": [],
   "execution_count": 5
  }
 ],
 "metadata": {
  "interpreter": {
   "hash": "0f2f6c680cf484319d387fabac80ca4ff4fc33965036e02100b3fe02600f1423"
  },
  "kernelspec": {
   "display_name": "Python 3.10.1 64-bit",
   "language": "python",
   "name": "python3"
  },
  "language_info": {
   "codemirror_mode": {
    "name": "ipython",
    "version": 3
   },
   "file_extension": ".py",
   "mimetype": "text/x-python",
   "name": "python",
   "nbconvert_exporter": "python",
   "pygments_lexer": "ipython3",
   "version": "3.11.4"
  }
 },
 "nbformat": 4,
 "nbformat_minor": 5
}
